{
 "cells": [
  {
   "cell_type": "code",
   "execution_count": 1,
   "id": "bec10e6d",
   "metadata": {},
   "outputs": [],
   "source": [
    "import requests\n",
    "import json"
   ]
  },
  {
   "cell_type": "markdown",
   "id": "a2392df1",
   "metadata": {},
   "source": [
    "## Pegando os 151 pokémon inicial\n",
    "Iremos usar a API da pokedex, que é gratuita.\n",
    "\n",
    "O método retorna listas de no máximo 20 pokémon, por isso se faz necessário iterar até chegarmos no 151."
   ]
  },
  {
   "cell_type": "code",
   "execution_count": 23,
   "id": "50f0f281",
   "metadata": {
    "scrolled": true
   },
   "outputs": [],
   "source": [
    "list_pokemon = []"
   ]
  },
  {
   "cell_type": "code",
   "execution_count": 24,
   "id": "5b9b52dd",
   "metadata": {},
   "outputs": [],
   "source": [
    "i = 0\n",
    "while i <= 7:\n",
    "    if(i == 7): #lista de pokemon entre 140 e 160 \n",
    "        url = 'https://pokeapi.co/api/v2/pokemon?offset=' + str(i*20) + '&limit=11'\n",
    "    else:\n",
    "        url = 'https://pokeapi.co/api/v2/pokemon?offset=' + str(i*20) + '&limit=20'\n",
    "    response = requests.get(url)\n",
    "    resp_json = response.json()\n",
    "    next = resp_json['next']\n",
    "    for j in resp_json['results']:\n",
    "        dict_pokemon = {}\n",
    "        dict_pokemon['name'] = j['name']\n",
    "        dict_pokemon['url'] = j['url']\n",
    "        list_pokemon.append(dict_pokemon)\n",
    "    i = i + 1"
   ]
  },
  {
   "cell_type": "code",
   "execution_count": null,
   "id": "0288f6b8",
   "metadata": {},
   "outputs": [],
   "source": [
    "# print(list_pokemon)"
   ]
  },
  {
   "cell_type": "code",
   "execution_count": null,
   "id": "31c993bc",
   "metadata": {},
   "outputs": [],
   "source": [
    "list_pokemon_file = []\n",
    "for pokemon in list_pokemon:\n",
    "    # print(pokemon['name'])\n",
    "    url = 'https://pokeapi.co/api/v2/pokemon/' + pokemon['name']\n",
    "    response = requests.get(url)\n",
    "    pokemon_details = response.json()\n",
    "    types = [type_info['type']['name'] for type_info in pokemon_details['types']]\n",
    "    stats = {stat_info['stat']['name']: stat_info['base_stat'] for stat_info in pokemon_details['stats']}\n",
    "    moves = [move_info['move']['name'] for move_info in pokemon_details['moves']]\n",
    "    abilities = [ability_info['ability']['name'] for ability_info in pokemon_details['abilities']]\n",
    "    # leva para uma nova lista que será convertida em arquivo\n",
    "    list_pokemon_file.append({\n",
    "        'name': pokemon['name'],\n",
    "        'types': types,\n",
    "        'stats': stats,\n",
    "        'moves': moves,\n",
    "        'abilities': abilities\n",
    "    })\n",
    "    \n",
    "with open('pokemon_data.json', 'w') as json_file:\n",
    "    json.dump(list_pokemon_file, json_file, indent=4)\n",
    "\n",
    "print(\"Dados dos Pokémon salvos em 'pokemon_data.json'\")"
   ]
  },
  {
   "cell_type": "code",
   "execution_count": null,
   "id": "d08b4471",
   "metadata": {},
   "outputs": [],
   "source": [
    "types = ['bug', 'dragon', 'electric', 'fairy', 'fighting', 'fire', 'flying', 'ghost', 'grass', 'ground', 'ice', 'normal', 'poison', 'psychic', 'rock', 'steel', 'water']"
   ]
  }
 ],
 "metadata": {
  "kernelspec": {
   "display_name": "Python 3 (ipykernel)",
   "language": "python",
   "name": "python3"
  },
  "language_info": {
   "codemirror_mode": {
    "name": "ipython",
    "version": 3
   },
   "file_extension": ".py",
   "mimetype": "text/x-python",
   "name": "python",
   "nbconvert_exporter": "python",
   "pygments_lexer": "ipython3",
   "version": "3.7.9"
  }
 },
 "nbformat": 4,
 "nbformat_minor": 5
}
